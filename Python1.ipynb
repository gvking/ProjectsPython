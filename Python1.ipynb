{
 "cells": [
  {
   "cell_type": "markdown",
   "metadata": {},
   "source": [
    "# Python Homework 6\n",
    "\n",
    "**Release date:** Sunday, February 23 <br>\n",
    "**Due date:** Friday, __March 6__, 11:59 p.m. via GauchoSpace\n",
    "\n",
    "**Instruction:** Please upload your jupyter notebook on GauchoSpace with filename \"PythonHW6_YOURPERMNUMBER.ipynb\"."
   ]
  },
  {
   "cell_type": "markdown",
   "metadata": {},
   "source": [
    "__Background:__ In mathematical finance, Markov chains are used to model the default risk of a company or country (more specifically, the default of a company's or country's liability like a corporate or government bond - see e.g. PSTAT 171 and PSTAT 170). \n",
    "\n",
    "Rating agencies (like <i>Standard & Poor’s</i>, <i>Moody’s</i>, <i>Fitch</i>) rate the financial stability of a company and classify them according to different classes. A possible classification may range from 'AAA' for debitors with a very good credit rating to 'CCC' for debitors which are very likely to delay in paying a debt; and 'D' for those debitors which can't satisfy their financial liabilities anymore (in other words, they are default). \n",
    "\n",
    "The yearly credit rating of a company can be modeled as a Markov chain $(X_n)_{n=0,1,2,\\ldots}$ with state space\n",
    "\n",
    "$$ \\mathcal{S} = \\{ AAA,\\, AA,\\, A,\\, BBB,\\, BB,\\, B,\\, CCC,\\, D \\} $$\n",
    "\n",
    "where $X_n$ represents the credit rating class of a company in the $n$-th year. The transition probabilities are given by\n",
    "\n",
    "\\begin{equation*}\n",
    "\\begin{array}{ccccccccc}\n",
    " & AAA & AA & A & BBB & BB & B & CCC & D \\\\\n",
    " AAA & 92.07 & 7.09 & 0.63 & 0.15 & 0.06 & 0.00 & 0.00 & 0.00 \\\\ \n",
    " AA & 0.62 & 90.84 & 7.76 & 0.59 & 0.06 & 0.10 & 0.02 & 0.01 \\\\\n",
    " A & 0.05 & 2.09 & 91.38 & 5.79 & 0.44 & 0.16 & 0.04 & 0.05 \\\\\n",
    " BBB & 0.03 & 0.21 & 4.10 & 89.37 & 4.82 & 0.86 & 0.24 & 0.37 \\\\\n",
    " BB & 0.03 & 0.08 & 0.40 & 5.54 & 83.24 & 8.15 & 1.11 & 1.45 \\\\\n",
    " B & 0.00 & 0.08 & 0.27 & 0.34 & 5.39 & 82.41 & 4.92 & 6.59 \\\\\n",
    " CCC & 0.10 & 0.00 & 0.29 & 0.58 & 1.55 & 10.54 & 52.80 & 34.14 \\\\\n",
    " D & 0.00 & 0.00 & 0.00 & 0.00 & 0.00 & 0.00 & 0.00 & 100.0\n",
    "\\end{array} \n",
    "\\end{equation*}\n",
    "\n",
    "<i>Remark</i>: For your implementations below, you can label the different states from $0$ to $7$, where $0$ represents state $AAA$, $1$ represents state $AA$, and so on."
   ]
  },
  {
   "cell_type": "markdown",
   "metadata": {},
   "source": [
    "As usual, we start with loading some packages:"
   ]
  },
  {
   "cell_type": "code",
   "execution_count": 18,
   "metadata": {},
   "outputs": [],
   "source": [
    "import numpy as np\n",
    "import matplotlib.pyplot as plt"
   ]
  },
  {
   "cell_type": "markdown",
   "metadata": {},
   "source": [
    "## Problem 1 (3 points)\n",
    "\n",
    "1. Implement the transition probability matrix $P$ from above as a two dimensional <tt>numpy.array()</tt>."
   ]
  },
  {
   "cell_type": "code",
   "execution_count": 19,
   "metadata": {},
   "outputs": [
    {
     "name": "stdout",
     "output_type": "stream",
     "text": [
      "[[9.207e-01 7.090e-02 6.300e-03 1.500e-03 6.000e-04 0.000e+00 0.000e+00\n",
      "  0.000e+00]\n",
      " [6.200e-03 9.084e-01 7.760e-02 5.900e-03 6.000e-04 1.000e-03 2.000e-04\n",
      "  1.000e-04]\n",
      " [5.000e-04 2.090e-02 9.138e-01 5.790e-02 4.400e-03 1.600e-03 4.000e-04\n",
      "  5.000e-04]\n",
      " [3.000e-04 2.100e-03 4.100e-02 8.937e-01 4.820e-02 8.600e-03 2.400e-03\n",
      "  3.700e-03]\n",
      " [3.000e-04 8.000e-04 4.000e-03 5.540e-02 8.324e-01 8.150e-02 1.110e-02\n",
      "  1.450e-02]\n",
      " [0.000e+00 8.000e-04 2.700e-03 3.400e-03 5.390e-02 8.241e-01 4.920e-02\n",
      "  6.590e-02]\n",
      " [1.000e-03 0.000e+00 2.900e-03 5.800e-03 1.550e-02 1.054e-01 5.280e-01\n",
      "  3.414e-01]\n",
      " [0.000e+00 0.000e+00 0.000e+00 0.000e+00 0.000e+00 0.000e+00 0.000e+00\n",
      "  1.000e+00]]\n"
     ]
    }
   ],
   "source": [
    "# WRITE YOUR OWN CODE HERE! \n",
    "P = np.array([[0.9207,0.0709, 0.0063, 0.0015, 0.0006, 0, 0, 0], [0.0062, .9084, 0.0776, 0.0059, 0.0006, 0.001, 0.0002, 0.0001], [0.0005, 0.0209, .9138, 0.0579, 0.0044, 0.0016, 0.0004, 0.0005], [0.0003, 0.0021, 0.0410,.8937,0.0482, 0.0086,0.0024,0.0037], [0.0003, 0.0008, 0.004,0.0554,.8324,0.0815,0.0111,0.0145],[0,0.0008,0.0027,0.0034,0.0539,.8241,0.0492,0.0659],[0.001,0,0.0029,0.0058,0.0155,.1054,.528,.3414],[0,0,0,0,0,0,0,1]])\n",
    "print(P)"
   ]
  },
  {
   "cell_type": "markdown",
   "metadata": {},
   "source": [
    "2. Provide the probability vector for the transition probabilities from state 3 to all other states 0, 1, 2,..., 7"
   ]
  },
  {
   "cell_type": "code",
   "execution_count": 20,
   "metadata": {},
   "outputs": [
    {
     "name": "stdout",
     "output_type": "stream",
     "text": [
      "[3.000e-04 2.100e-03 4.100e-02 8.937e-01 4.820e-02 8.600e-03 2.400e-03\n",
      " 3.700e-03]\n"
     ]
    }
   ],
   "source": [
    "# WRITE YOUR OWN CODE HERE! \n",
    "print(P[3])"
   ]
  },
  {
   "cell_type": "markdown",
   "metadata": {},
   "source": [
    "3. Use suitable Matrix operations to <u>compute the probability</u> that a company which is rated with 'AAA' today will <u>not</u> default during the next 8 years. "
   ]
  },
  {
   "cell_type": "code",
   "execution_count": 21,
   "metadata": {},
   "outputs": [
    {
     "name": "stdout",
     "output_type": "stream",
     "text": [
      "0.9954584348525004\n"
     ]
    }
   ],
   "source": [
    "# WRITE YOUR OWN CODE HERE! \n",
    "\n",
    "## HINT: YOU MAY WANT TO USE np.linalg.matrix_power() TO COMPUTE POWERS OF A MATRIX\n",
    "p2 = np.linalg.matrix_power(P,2)\n",
    "p2defaultfromAA = p2[0][7]\n",
    "\n",
    "p3 = np.linalg.matrix_power(P,3)\n",
    "p3defaultfromAA = p3[0][7]\n",
    "\n",
    "p4 = np.linalg.matrix_power(P,4)\n",
    "p4defaultfromAA = p4[0][7]\n",
    "\n",
    "p5 = np.linalg.matrix_power(P,5)\n",
    "p5defaultfromAA = p5[0][7]\n",
    "\n",
    "p6 = np.linalg.matrix_power(P,6)\n",
    "p6defaultfromAA = p6[0][7]\n",
    "\n",
    "p7 = np.linalg.matrix_power(P,7)\n",
    "p7defaultfromAA = p7[0][7]\n",
    "\n",
    "p8 = np.linalg.matrix_power(P,8)\n",
    "p8defaultfromAA = p8[0][7]\n",
    "\n",
    "sumofDefaultingPossibility = p2defaultfromAA+p3defaultfromAA+p4defaultfromAA+p5defaultfromAA+p6defaultfromAA+p7defaultfromAA+p8defaultfromAA\n",
    "probabilityofnotDefaulting = 1-sumofDefaultingPossibility\n",
    "print(probabilityofnotDefaulting)"
   ]
  },
  {
   "cell_type": "markdown",
   "metadata": {},
   "source": [
    "## Problem 2 (4 points)\n",
    "\n",
    "Write a function called <tt>simulateRating(...)</tt> which simulates the Markov chain. \n",
    "\n",
    "Input:\n",
    "* <tt>startRating</tt>: Initial state of the Markov chain at time 0\n",
    "* <tt>numberOfSteps</tt>: Number of steps $n$\n",
    "* <tt>P</tt>: Transition matrix\n",
    "\n",
    "Output:\n",
    "* <tt>samplePath</tt>: An array of length $n$ with the values $X_0, X_1, \\ldots, X_n$."
   ]
  },
  {
   "cell_type": "code",
   "execution_count": 79,
   "metadata": {},
   "outputs": [],
   "source": [
    "def simulateRating(startRating, numberOfSteps, P):\n",
    "    \n",
    "   ## WRITE YOUR OWN CODE HERE\n",
    "   ## HINT: USE np.random.choice()\n",
    "    samplePath = []\n",
    "    count = 0\n",
    "    for i in range(numberOfSteps):\n",
    "        if i == 0:\n",
    "            samplePath = [startRating]\n",
    "        else:\n",
    "            samplePath.append(np.random.choice([0,1,2,3,4,5,6,7], p = P[samplePath[count-1]]))\n",
    "        count=count+1\n",
    "\n",
    "    return samplePath"
   ]
  },
  {
   "cell_type": "code",
   "execution_count": 81,
   "metadata": {},
   "outputs": [
    {
     "data": {
      "text/plain": [
       "[0, 1, 1, 1, 2, 2, 2, 2, 2, 2]"
      ]
     },
     "execution_count": 81,
     "metadata": {},
     "output_type": "execute_result"
    }
   ],
   "source": [
    "## TEST YOUR FUNCTION HERE\n",
    "simulateRating( startRating = 0, numberOfSteps = 10, P = P)"
   ]
  },
  {
   "cell_type": "markdown",
   "metadata": {},
   "source": [
    "## Problem 3 (3 points)\n",
    "\n",
    "Write a code to simulate and plot <tt>numPaths = 5</tt> simulated paths of length <tt>lengthPath = 100</tt> with staring value <tt>startRating = 2</tt> in one plot."
   ]
  },
  {
   "cell_type": "code",
   "execution_count": 102,
   "metadata": {},
   "outputs": [],
   "source": [
    "# WRITE YOUR OWN CODE HERE! FEEL FREE TO INSERT MORE CELLS!\n",
    "# ADD SOME COMMENTS TO YOUR CODE!\n",
    "\n",
    "path1 = simulateRating(startRating = 2, numberOfSteps = 100, P = P)\n",
    "path2 = simulateRating(startRating = 2, numberOfSteps = 100, P = P)\n",
    "path3 = simulateRating(startRating = 2, numberOfSteps = 100, P = P)\n",
    "path4 = simulateRating(startRating = 2, numberOfSteps = 100, P = P)\n",
    "path5 = simulateRating(startRating = 2, numberOfSteps = 100, P = P)"
   ]
  },
  {
   "cell_type": "code",
   "execution_count": 103,
   "metadata": {},
   "outputs": [
    {
     "data": {
      "image/png": "[encoded data removed]",
      "text/plain": [
       "<Figure size 720x360 with 1 Axes>"
      ]
     },
     "metadata": {
      "needs_background": "light"
     },
     "output_type": "display_data"
    }
   ],
   "source": [
    "# COMPLETE/MODIFY THE PLOT COMMANDS ACCORDINGLY\n",
    "\n",
    "plt.figure( figsize=( 10, 5 ) )\n",
    "\n",
    "plt.title('Simulated rating paths')\n",
    "\n",
    "plt.ylabel('Credit Ratings')\n",
    "plt.xlabel('Year')\n",
    "\n",
    "plt.ylim( -1, 8 )\n",
    "ratings = [ '', 'AAA', 'AA', 'A', 'BBB', 'BB', 'B', 'CCC/C', 'D', '' ]\n",
    "plt.yticks( range( -1, 9 ), ratings )\n",
    "plt.plot(path1)\n",
    "plt.plot(path2)\n",
    "plt.plot(path3)\n",
    "plt.plot(path4)\n",
    "plt.plot(path5)\n",
    "plt.show()"
   ]
  },
  {
   "cell_type": "code",
   "execution_count": null,
   "metadata": {},
   "outputs": [],
   "source": []
  }
 ],
 "metadata": {
  "anaconda-cloud": {},
  "kernelspec": {
   "display_name": "Python 3",
   "language": "python",
   "name": "python3"
  },
  "language_info": {
   "codemirror_mode": {
    "name": "ipython",
    "version": 3
   },
   "file_extension": ".py",
   "mimetype": "text/x-python",
   "name": "python",
   "nbconvert_exporter": "python",
   "pygments_lexer": "ipython3",
   "version": "3.7.4"
  }
 },
 "nbformat": 4,
 "nbformat_minor": 2
}
